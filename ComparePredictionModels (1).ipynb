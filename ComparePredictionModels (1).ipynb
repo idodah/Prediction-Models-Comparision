{
  "nbformat": 4,
  "nbformat_minor": 0,
  "metadata": {
    "colab": {
      "name": "ComparePredictionModels.ipynb",
      "provenance": [],
      "collapsed_sections": []
    },
    "kernelspec": {
      "name": "python3",
      "display_name": "Python 3"
    },
    "language_info": {
      "name": "python"
    }
  },
  "cells": [
    {
      "cell_type": "code",
      "execution_count": 1,
      "metadata": {
        "id": "KL7ImG6hv0ER"
      },
      "outputs": [],
      "source": [
        "import pandas as pd\n",
        "from sklearn.preprocessing import StandardScaler\n",
        "from sklearn.model_selection import train_test_split\n",
        "from sklearn.metrics import accuracy_score\n",
        "from sklearn.svm import LinearSVC\n",
        "from sklearn.linear_model import LogisticRegression\n",
        "from sklearn.neural_network import MLPClassifier\n",
        "from sklearn.ensemble import RandomForestClassifier\n",
        "import numpy as np\n",
        "from sklearn.metrics import make_scorer, accuracy_score\n",
        "from sklearn.model_selection import GridSearchCV\n",
        "import warnings\n",
        "from sklearn.metrics import recall_score\n",
        "from sklearn.metrics import precision_score\n",
        "import matplotlib.pyplot as plt\n",
        "from sklearn.metrics import roc_auc_score\n",
        "from tensorflow.keras.utils import to_categorical\n",
        "from keras.models import Sequential\n",
        "from keras.layers import Dense, Dropout\n",
        "from keras.metrics import Recall\n",
        "from tensorflow.keras.metrics import Recall, FalseNegatives, Precision, AUC, Accuracy\n",
        "import tensorflow as tf\n",
        "from tensorflow.keras.utils import to_categorical\n",
        "from keras.callbacks import EarlyStopping"
      ]
    },
    {
      "cell_type": "markdown",
      "source": [
        "**1. Data Loading**"
      ],
      "metadata": {
        "id": "pUj21k1bfUMr"
      }
    },
    {
      "cell_type": "code",
      "source": [
        "df = pd.read_csv('ex4_data.csv')\n",
        "df"
      ],
      "metadata": {
        "colab": {
          "base_uri": "https://localhost:8080/",
          "height": 487
        },
        "id": "Zqy0CsOGwJpD",
        "outputId": "1d142cf0-50ee-4e1d-ba1c-5d1adb75e95c"
      },
      "execution_count": 3,
      "outputs": [
        {
          "output_type": "execute_result",
          "data": {
            "text/plain": [
              "      INTENSIVE  NEWSITEID  RISK10YRS  INCLUSIONFRS  SBP  DBP  N_AGENTS  \\\n",
              "0       Regular       74.0  29.732061          True  145   80         2   \n",
              "1       Regular        8.0  29.677619          True  138   71         1   \n",
              "2     Intensive       25.0  17.443819          True  143   92         2   \n",
              "3       Regular       96.0   8.627849         False  123   68         2   \n",
              "4     Intensive       42.0  23.751437          True  126   51         2   \n",
              "...         ...        ...        ...           ...  ...  ...       ...   \n",
              "8741    Regular      102.0  10.896486         False  138   59         2   \n",
              "8742    Regular       98.0   8.646088         False  119   73         3   \n",
              "8743    Regular       99.0  24.191491          True  137   75         0   \n",
              "8744  Intensive       15.0  20.354619          True  154   93         0   \n",
              "8745  Intensive       74.0   7.459888         False  146   81         1   \n",
              "\n",
              "      NOAGENTS  SMOKE_3CAT  ASPIRIN  ...  RACE4  CHR  GLUR  HDL  TRR  UMALCR  \\\n",
              "0        False           3     True  ...  WHITE  155    81   36   92    5.80   \n",
              "1        False           2     True  ...  WHITE  243   107   61  188    5.45   \n",
              "2        False           2    False  ...  WHITE  180   116   47  125   13.33   \n",
              "3        False           1    False  ...  WHITE  234    93   89  109    6.12   \n",
              "4        False           2    False  ...  WHITE  126   108   39   84   28.78   \n",
              "...        ...         ...      ...  ...    ...  ...   ...  ...  ...     ...   \n",
              "8741     False           2     True  ...  WHITE  199    90   85   74   12.73   \n",
              "8742     False           2    False  ...  WHITE  145    83   52   95  440.38   \n",
              "8743      True           2    False  ...  WHITE  167    80   46   75   26.92   \n",
              "8744      True           2     True  ...  WHITE  245   103   37  369    3.20   \n",
              "8745     False           1     True  ...  WHITE  123    87   52   71    9.17   \n",
              "\n",
              "            BMI  STATIN  SBPTERTILE  EVENT_PRIMARY  \n",
              "0     33.115201    True           3          False  \n",
              "1     28.842380    True           2          False  \n",
              "2     33.643060   False           2          False  \n",
              "3     29.337871   False           1          False  \n",
              "4     36.660286   False           1          False  \n",
              "...         ...     ...         ...            ...  \n",
              "8741  27.186534    True           2          False  \n",
              "8742  42.191997    True           1          False  \n",
              "8743  19.462021    True           2          False  \n",
              "8744  35.579436   False           3          False  \n",
              "8745  30.783013    True           3          False  \n",
              "\n",
              "[8746 rows x 30 columns]"
            ],
            "text/html": [
              "\n",
              "  <div id=\"df-71214ae7-47d9-4de4-8612-14a665c0c791\">\n",
              "    <div class=\"colab-df-container\">\n",
              "      <div>\n",
              "<style scoped>\n",
              "    .dataframe tbody tr th:only-of-type {\n",
              "        vertical-align: middle;\n",
              "    }\n",
              "\n",
              "    .dataframe tbody tr th {\n",
              "        vertical-align: top;\n",
              "    }\n",
              "\n",
              "    .dataframe thead th {\n",
              "        text-align: right;\n",
              "    }\n",
              "</style>\n",
              "<table border=\"1\" class=\"dataframe\">\n",
              "  <thead>\n",
              "    <tr style=\"text-align: right;\">\n",
              "      <th></th>\n",
              "      <th>INTENSIVE</th>\n",
              "      <th>NEWSITEID</th>\n",
              "      <th>RISK10YRS</th>\n",
              "      <th>INCLUSIONFRS</th>\n",
              "      <th>SBP</th>\n",
              "      <th>DBP</th>\n",
              "      <th>N_AGENTS</th>\n",
              "      <th>NOAGENTS</th>\n",
              "      <th>SMOKE_3CAT</th>\n",
              "      <th>ASPIRIN</th>\n",
              "      <th>...</th>\n",
              "      <th>RACE4</th>\n",
              "      <th>CHR</th>\n",
              "      <th>GLUR</th>\n",
              "      <th>HDL</th>\n",
              "      <th>TRR</th>\n",
              "      <th>UMALCR</th>\n",
              "      <th>BMI</th>\n",
              "      <th>STATIN</th>\n",
              "      <th>SBPTERTILE</th>\n",
              "      <th>EVENT_PRIMARY</th>\n",
              "    </tr>\n",
              "  </thead>\n",
              "  <tbody>\n",
              "    <tr>\n",
              "      <th>0</th>\n",
              "      <td>Regular</td>\n",
              "      <td>74.0</td>\n",
              "      <td>29.732061</td>\n",
              "      <td>True</td>\n",
              "      <td>145</td>\n",
              "      <td>80</td>\n",
              "      <td>2</td>\n",
              "      <td>False</td>\n",
              "      <td>3</td>\n",
              "      <td>True</td>\n",
              "      <td>...</td>\n",
              "      <td>WHITE</td>\n",
              "      <td>155</td>\n",
              "      <td>81</td>\n",
              "      <td>36</td>\n",
              "      <td>92</td>\n",
              "      <td>5.80</td>\n",
              "      <td>33.115201</td>\n",
              "      <td>True</td>\n",
              "      <td>3</td>\n",
              "      <td>False</td>\n",
              "    </tr>\n",
              "    <tr>\n",
              "      <th>1</th>\n",
              "      <td>Regular</td>\n",
              "      <td>8.0</td>\n",
              "      <td>29.677619</td>\n",
              "      <td>True</td>\n",
              "      <td>138</td>\n",
              "      <td>71</td>\n",
              "      <td>1</td>\n",
              "      <td>False</td>\n",
              "      <td>2</td>\n",
              "      <td>True</td>\n",
              "      <td>...</td>\n",
              "      <td>WHITE</td>\n",
              "      <td>243</td>\n",
              "      <td>107</td>\n",
              "      <td>61</td>\n",
              "      <td>188</td>\n",
              "      <td>5.45</td>\n",
              "      <td>28.842380</td>\n",
              "      <td>True</td>\n",
              "      <td>2</td>\n",
              "      <td>False</td>\n",
              "    </tr>\n",
              "    <tr>\n",
              "      <th>2</th>\n",
              "      <td>Intensive</td>\n",
              "      <td>25.0</td>\n",
              "      <td>17.443819</td>\n",
              "      <td>True</td>\n",
              "      <td>143</td>\n",
              "      <td>92</td>\n",
              "      <td>2</td>\n",
              "      <td>False</td>\n",
              "      <td>2</td>\n",
              "      <td>False</td>\n",
              "      <td>...</td>\n",
              "      <td>WHITE</td>\n",
              "      <td>180</td>\n",
              "      <td>116</td>\n",
              "      <td>47</td>\n",
              "      <td>125</td>\n",
              "      <td>13.33</td>\n",
              "      <td>33.643060</td>\n",
              "      <td>False</td>\n",
              "      <td>2</td>\n",
              "      <td>False</td>\n",
              "    </tr>\n",
              "    <tr>\n",
              "      <th>3</th>\n",
              "      <td>Regular</td>\n",
              "      <td>96.0</td>\n",
              "      <td>8.627849</td>\n",
              "      <td>False</td>\n",
              "      <td>123</td>\n",
              "      <td>68</td>\n",
              "      <td>2</td>\n",
              "      <td>False</td>\n",
              "      <td>1</td>\n",
              "      <td>False</td>\n",
              "      <td>...</td>\n",
              "      <td>WHITE</td>\n",
              "      <td>234</td>\n",
              "      <td>93</td>\n",
              "      <td>89</td>\n",
              "      <td>109</td>\n",
              "      <td>6.12</td>\n",
              "      <td>29.337871</td>\n",
              "      <td>False</td>\n",
              "      <td>1</td>\n",
              "      <td>False</td>\n",
              "    </tr>\n",
              "    <tr>\n",
              "      <th>4</th>\n",
              "      <td>Intensive</td>\n",
              "      <td>42.0</td>\n",
              "      <td>23.751437</td>\n",
              "      <td>True</td>\n",
              "      <td>126</td>\n",
              "      <td>51</td>\n",
              "      <td>2</td>\n",
              "      <td>False</td>\n",
              "      <td>2</td>\n",
              "      <td>False</td>\n",
              "      <td>...</td>\n",
              "      <td>WHITE</td>\n",
              "      <td>126</td>\n",
              "      <td>108</td>\n",
              "      <td>39</td>\n",
              "      <td>84</td>\n",
              "      <td>28.78</td>\n",
              "      <td>36.660286</td>\n",
              "      <td>False</td>\n",
              "      <td>1</td>\n",
              "      <td>False</td>\n",
              "    </tr>\n",
              "    <tr>\n",
              "      <th>...</th>\n",
              "      <td>...</td>\n",
              "      <td>...</td>\n",
              "      <td>...</td>\n",
              "      <td>...</td>\n",
              "      <td>...</td>\n",
              "      <td>...</td>\n",
              "      <td>...</td>\n",
              "      <td>...</td>\n",
              "      <td>...</td>\n",
              "      <td>...</td>\n",
              "      <td>...</td>\n",
              "      <td>...</td>\n",
              "      <td>...</td>\n",
              "      <td>...</td>\n",
              "      <td>...</td>\n",
              "      <td>...</td>\n",
              "      <td>...</td>\n",
              "      <td>...</td>\n",
              "      <td>...</td>\n",
              "      <td>...</td>\n",
              "      <td>...</td>\n",
              "    </tr>\n",
              "    <tr>\n",
              "      <th>8741</th>\n",
              "      <td>Regular</td>\n",
              "      <td>102.0</td>\n",
              "      <td>10.896486</td>\n",
              "      <td>False</td>\n",
              "      <td>138</td>\n",
              "      <td>59</td>\n",
              "      <td>2</td>\n",
              "      <td>False</td>\n",
              "      <td>2</td>\n",
              "      <td>True</td>\n",
              "      <td>...</td>\n",
              "      <td>WHITE</td>\n",
              "      <td>199</td>\n",
              "      <td>90</td>\n",
              "      <td>85</td>\n",
              "      <td>74</td>\n",
              "      <td>12.73</td>\n",
              "      <td>27.186534</td>\n",
              "      <td>True</td>\n",
              "      <td>2</td>\n",
              "      <td>False</td>\n",
              "    </tr>\n",
              "    <tr>\n",
              "      <th>8742</th>\n",
              "      <td>Regular</td>\n",
              "      <td>98.0</td>\n",
              "      <td>8.646088</td>\n",
              "      <td>False</td>\n",
              "      <td>119</td>\n",
              "      <td>73</td>\n",
              "      <td>3</td>\n",
              "      <td>False</td>\n",
              "      <td>2</td>\n",
              "      <td>False</td>\n",
              "      <td>...</td>\n",
              "      <td>WHITE</td>\n",
              "      <td>145</td>\n",
              "      <td>83</td>\n",
              "      <td>52</td>\n",
              "      <td>95</td>\n",
              "      <td>440.38</td>\n",
              "      <td>42.191997</td>\n",
              "      <td>True</td>\n",
              "      <td>1</td>\n",
              "      <td>False</td>\n",
              "    </tr>\n",
              "    <tr>\n",
              "      <th>8743</th>\n",
              "      <td>Regular</td>\n",
              "      <td>99.0</td>\n",
              "      <td>24.191491</td>\n",
              "      <td>True</td>\n",
              "      <td>137</td>\n",
              "      <td>75</td>\n",
              "      <td>0</td>\n",
              "      <td>True</td>\n",
              "      <td>2</td>\n",
              "      <td>False</td>\n",
              "      <td>...</td>\n",
              "      <td>WHITE</td>\n",
              "      <td>167</td>\n",
              "      <td>80</td>\n",
              "      <td>46</td>\n",
              "      <td>75</td>\n",
              "      <td>26.92</td>\n",
              "      <td>19.462021</td>\n",
              "      <td>True</td>\n",
              "      <td>2</td>\n",
              "      <td>False</td>\n",
              "    </tr>\n",
              "    <tr>\n",
              "      <th>8744</th>\n",
              "      <td>Intensive</td>\n",
              "      <td>15.0</td>\n",
              "      <td>20.354619</td>\n",
              "      <td>True</td>\n",
              "      <td>154</td>\n",
              "      <td>93</td>\n",
              "      <td>0</td>\n",
              "      <td>True</td>\n",
              "      <td>2</td>\n",
              "      <td>True</td>\n",
              "      <td>...</td>\n",
              "      <td>WHITE</td>\n",
              "      <td>245</td>\n",
              "      <td>103</td>\n",
              "      <td>37</td>\n",
              "      <td>369</td>\n",
              "      <td>3.20</td>\n",
              "      <td>35.579436</td>\n",
              "      <td>False</td>\n",
              "      <td>3</td>\n",
              "      <td>False</td>\n",
              "    </tr>\n",
              "    <tr>\n",
              "      <th>8745</th>\n",
              "      <td>Intensive</td>\n",
              "      <td>74.0</td>\n",
              "      <td>7.459888</td>\n",
              "      <td>False</td>\n",
              "      <td>146</td>\n",
              "      <td>81</td>\n",
              "      <td>1</td>\n",
              "      <td>False</td>\n",
              "      <td>1</td>\n",
              "      <td>True</td>\n",
              "      <td>...</td>\n",
              "      <td>WHITE</td>\n",
              "      <td>123</td>\n",
              "      <td>87</td>\n",
              "      <td>52</td>\n",
              "      <td>71</td>\n",
              "      <td>9.17</td>\n",
              "      <td>30.783013</td>\n",
              "      <td>True</td>\n",
              "      <td>3</td>\n",
              "      <td>False</td>\n",
              "    </tr>\n",
              "  </tbody>\n",
              "</table>\n",
              "<p>8746 rows × 30 columns</p>\n",
              "</div>\n",
              "      <button class=\"colab-df-convert\" onclick=\"convertToInteractive('df-71214ae7-47d9-4de4-8612-14a665c0c791')\"\n",
              "              title=\"Convert this dataframe to an interactive table.\"\n",
              "              style=\"display:none;\">\n",
              "        \n",
              "  <svg xmlns=\"http://www.w3.org/2000/svg\" height=\"24px\"viewBox=\"0 0 24 24\"\n",
              "       width=\"24px\">\n",
              "    <path d=\"M0 0h24v24H0V0z\" fill=\"none\"/>\n",
              "    <path d=\"M18.56 5.44l.94 2.06.94-2.06 2.06-.94-2.06-.94-.94-2.06-.94 2.06-2.06.94zm-11 1L8.5 8.5l.94-2.06 2.06-.94-2.06-.94L8.5 2.5l-.94 2.06-2.06.94zm10 10l.94 2.06.94-2.06 2.06-.94-2.06-.94-.94-2.06-.94 2.06-2.06.94z\"/><path d=\"M17.41 7.96l-1.37-1.37c-.4-.4-.92-.59-1.43-.59-.52 0-1.04.2-1.43.59L10.3 9.45l-7.72 7.72c-.78.78-.78 2.05 0 2.83L4 21.41c.39.39.9.59 1.41.59.51 0 1.02-.2 1.41-.59l7.78-7.78 2.81-2.81c.8-.78.8-2.07 0-2.86zM5.41 20L4 18.59l7.72-7.72 1.47 1.35L5.41 20z\"/>\n",
              "  </svg>\n",
              "      </button>\n",
              "      \n",
              "  <style>\n",
              "    .colab-df-container {\n",
              "      display:flex;\n",
              "      flex-wrap:wrap;\n",
              "      gap: 12px;\n",
              "    }\n",
              "\n",
              "    .colab-df-convert {\n",
              "      background-color: #E8F0FE;\n",
              "      border: none;\n",
              "      border-radius: 50%;\n",
              "      cursor: pointer;\n",
              "      display: none;\n",
              "      fill: #1967D2;\n",
              "      height: 32px;\n",
              "      padding: 0 0 0 0;\n",
              "      width: 32px;\n",
              "    }\n",
              "\n",
              "    .colab-df-convert:hover {\n",
              "      background-color: #E2EBFA;\n",
              "      box-shadow: 0px 1px 2px rgba(60, 64, 67, 0.3), 0px 1px 3px 1px rgba(60, 64, 67, 0.15);\n",
              "      fill: #174EA6;\n",
              "    }\n",
              "\n",
              "    [theme=dark] .colab-df-convert {\n",
              "      background-color: #3B4455;\n",
              "      fill: #D2E3FC;\n",
              "    }\n",
              "\n",
              "    [theme=dark] .colab-df-convert:hover {\n",
              "      background-color: #434B5C;\n",
              "      box-shadow: 0px 1px 3px 1px rgba(0, 0, 0, 0.15);\n",
              "      filter: drop-shadow(0px 1px 2px rgba(0, 0, 0, 0.3));\n",
              "      fill: #FFFFFF;\n",
              "    }\n",
              "  </style>\n",
              "\n",
              "      <script>\n",
              "        const buttonEl =\n",
              "          document.querySelector('#df-71214ae7-47d9-4de4-8612-14a665c0c791 button.colab-df-convert');\n",
              "        buttonEl.style.display =\n",
              "          google.colab.kernel.accessAllowed ? 'block' : 'none';\n",
              "\n",
              "        async function convertToInteractive(key) {\n",
              "          const element = document.querySelector('#df-71214ae7-47d9-4de4-8612-14a665c0c791');\n",
              "          const dataTable =\n",
              "            await google.colab.kernel.invokeFunction('convertToInteractive',\n",
              "                                                     [key], {});\n",
              "          if (!dataTable) return;\n",
              "\n",
              "          const docLinkHtml = 'Like what you see? Visit the ' +\n",
              "            '<a target=\"_blank\" href=https://colab.research.google.com/notebooks/data_table.ipynb>data table notebook</a>'\n",
              "            + ' to learn more about interactive tables.';\n",
              "          element.innerHTML = '';\n",
              "          dataTable['output_type'] = 'display_data';\n",
              "          await google.colab.output.renderOutput(dataTable, element);\n",
              "          const docLink = document.createElement('div');\n",
              "          docLink.innerHTML = docLinkHtml;\n",
              "          element.appendChild(docLink);\n",
              "        }\n",
              "      </script>\n",
              "    </div>\n",
              "  </div>\n",
              "  "
            ]
          },
          "metadata": {},
          "execution_count": 3
        }
      ]
    },
    {
      "cell_type": "markdown",
      "source": [
        "Convert boolean variables to integers"
      ],
      "metadata": {
        "id": "6m3HM4gPfrGl"
      }
    },
    {
      "cell_type": "code",
      "source": [
        "df[\"INCLUSIONFRS\"] = df[\"INCLUSIONFRS\"].astype(int)\n",
        "df[\"NOAGENTS\"] = df[\"NOAGENTS\"].astype(int)\n",
        "df[\"ASPIRIN\"] = df[\"ASPIRIN\"].astype(int)\n",
        "df[\"SUB_CKD\"] = df[\"SUB_CKD\"].astype(int)\n",
        "df[\"RACE_BLACK\"] = df[\"RACE_BLACK\"].astype(int)\n",
        "df[\"FEMALE\"] = df[\"FEMALE\"].astype(int)\n",
        "df[\"SUB_CVD\"] = df[\"SUB_CVD\"].astype(int)\n",
        "df[\"SUB_CLINICALCVD\"] = df[\"SUB_CLINICALCVD\"].astype(int)\n",
        "df[\"SUB_SUBCLINICALCVD\"] = df[\"SUB_SUBCLINICALCVD\"].astype(int)\n",
        "df[\"SUB_SENIOR\"] = df[\"SUB_SENIOR\"].astype(int)\n",
        "df[\"STATIN\"] = df[\"STATIN\"].astype(int)\n",
        "df[\"EVENT_PRIMARY\"] = df[\"EVENT_PRIMARY\"].astype(int)\n"
      ],
      "metadata": {
        "id": "M9wO0cF5wPgD"
      },
      "execution_count": 4,
      "outputs": []
    },
    {
      "cell_type": "markdown",
      "source": [
        " Convert categorical variables to integers"
      ],
      "metadata": {
        "id": "gMcHs7aTgyX1"
      }
    },
    {
      "cell_type": "code",
      "source": [
        "#object to category to int\n",
        "c = pd.Categorical(df['INTENSIVE'])\n",
        "df['INTENSIVE']=c\n",
        "df['INTENSIVE'] = df.INTENSIVE.cat.codes\n",
        "c = pd.Categorical(df['RACE4'])\n",
        "df['RACE4']=c\n",
        "df['RACE4'] = df.RACE4.cat.codes\n",
        "df"
      ],
      "metadata": {
        "id": "tkDQ1CgcecXq",
        "colab": {
          "base_uri": "https://localhost:8080/",
          "height": 487
        },
        "outputId": "6b1b4356-1e3e-4614-a33b-0bc1e8489677"
      },
      "execution_count": 5,
      "outputs": [
        {
          "output_type": "execute_result",
          "data": {
            "text/plain": [
              "      INTENSIVE  NEWSITEID  RISK10YRS  INCLUSIONFRS  SBP  DBP  N_AGENTS  \\\n",
              "0             1       74.0  29.732061             1  145   80         2   \n",
              "1             1        8.0  29.677619             1  138   71         1   \n",
              "2             0       25.0  17.443819             1  143   92         2   \n",
              "3             1       96.0   8.627849             0  123   68         2   \n",
              "4             0       42.0  23.751437             1  126   51         2   \n",
              "...         ...        ...        ...           ...  ...  ...       ...   \n",
              "8741          1      102.0  10.896486             0  138   59         2   \n",
              "8742          1       98.0   8.646088             0  119   73         3   \n",
              "8743          1       99.0  24.191491             1  137   75         0   \n",
              "8744          0       15.0  20.354619             1  154   93         0   \n",
              "8745          0       74.0   7.459888             0  146   81         1   \n",
              "\n",
              "      NOAGENTS  SMOKE_3CAT  ASPIRIN  ...  RACE4  CHR  GLUR  HDL  TRR  UMALCR  \\\n",
              "0            0           3        1  ...      3  155    81   36   92    5.80   \n",
              "1            0           2        1  ...      3  243   107   61  188    5.45   \n",
              "2            0           2        0  ...      3  180   116   47  125   13.33   \n",
              "3            0           1        0  ...      3  234    93   89  109    6.12   \n",
              "4            0           2        0  ...      3  126   108   39   84   28.78   \n",
              "...        ...         ...      ...  ...    ...  ...   ...  ...  ...     ...   \n",
              "8741         0           2        1  ...      3  199    90   85   74   12.73   \n",
              "8742         0           2        0  ...      3  145    83   52   95  440.38   \n",
              "8743         1           2        0  ...      3  167    80   46   75   26.92   \n",
              "8744         1           2        1  ...      3  245   103   37  369    3.20   \n",
              "8745         0           1        1  ...      3  123    87   52   71    9.17   \n",
              "\n",
              "            BMI  STATIN  SBPTERTILE  EVENT_PRIMARY  \n",
              "0     33.115201       1           3              0  \n",
              "1     28.842380       1           2              0  \n",
              "2     33.643060       0           2              0  \n",
              "3     29.337871       0           1              0  \n",
              "4     36.660286       0           1              0  \n",
              "...         ...     ...         ...            ...  \n",
              "8741  27.186534       1           2              0  \n",
              "8742  42.191997       1           1              0  \n",
              "8743  19.462021       1           2              0  \n",
              "8744  35.579436       0           3              0  \n",
              "8745  30.783013       1           3              0  \n",
              "\n",
              "[8746 rows x 30 columns]"
            ],
            "text/html": [
              "\n",
              "  <div id=\"df-aab2df4d-34ea-4503-801b-25094d3f9037\">\n",
              "    <div class=\"colab-df-container\">\n",
              "      <div>\n",
              "<style scoped>\n",
              "    .dataframe tbody tr th:only-of-type {\n",
              "        vertical-align: middle;\n",
              "    }\n",
              "\n",
              "    .dataframe tbody tr th {\n",
              "        vertical-align: top;\n",
              "    }\n",
              "\n",
              "    .dataframe thead th {\n",
              "        text-align: right;\n",
              "    }\n",
              "</style>\n",
              "<table border=\"1\" class=\"dataframe\">\n",
              "  <thead>\n",
              "    <tr style=\"text-align: right;\">\n",
              "      <th></th>\n",
              "      <th>INTENSIVE</th>\n",
              "      <th>NEWSITEID</th>\n",
              "      <th>RISK10YRS</th>\n",
              "      <th>INCLUSIONFRS</th>\n",
              "      <th>SBP</th>\n",
              "      <th>DBP</th>\n",
              "      <th>N_AGENTS</th>\n",
              "      <th>NOAGENTS</th>\n",
              "      <th>SMOKE_3CAT</th>\n",
              "      <th>ASPIRIN</th>\n",
              "      <th>...</th>\n",
              "      <th>RACE4</th>\n",
              "      <th>CHR</th>\n",
              "      <th>GLUR</th>\n",
              "      <th>HDL</th>\n",
              "      <th>TRR</th>\n",
              "      <th>UMALCR</th>\n",
              "      <th>BMI</th>\n",
              "      <th>STATIN</th>\n",
              "      <th>SBPTERTILE</th>\n",
              "      <th>EVENT_PRIMARY</th>\n",
              "    </tr>\n",
              "  </thead>\n",
              "  <tbody>\n",
              "    <tr>\n",
              "      <th>0</th>\n",
              "      <td>1</td>\n",
              "      <td>74.0</td>\n",
              "      <td>29.732061</td>\n",
              "      <td>1</td>\n",
              "      <td>145</td>\n",
              "      <td>80</td>\n",
              "      <td>2</td>\n",
              "      <td>0</td>\n",
              "      <td>3</td>\n",
              "      <td>1</td>\n",
              "      <td>...</td>\n",
              "      <td>3</td>\n",
              "      <td>155</td>\n",
              "      <td>81</td>\n",
              "      <td>36</td>\n",
              "      <td>92</td>\n",
              "      <td>5.80</td>\n",
              "      <td>33.115201</td>\n",
              "      <td>1</td>\n",
              "      <td>3</td>\n",
              "      <td>0</td>\n",
              "    </tr>\n",
              "    <tr>\n",
              "      <th>1</th>\n",
              "      <td>1</td>\n",
              "      <td>8.0</td>\n",
              "      <td>29.677619</td>\n",
              "      <td>1</td>\n",
              "      <td>138</td>\n",
              "      <td>71</td>\n",
              "      <td>1</td>\n",
              "      <td>0</td>\n",
              "      <td>2</td>\n",
              "      <td>1</td>\n",
              "      <td>...</td>\n",
              "      <td>3</td>\n",
              "      <td>243</td>\n",
              "      <td>107</td>\n",
              "      <td>61</td>\n",
              "      <td>188</td>\n",
              "      <td>5.45</td>\n",
              "      <td>28.842380</td>\n",
              "      <td>1</td>\n",
              "      <td>2</td>\n",
              "      <td>0</td>\n",
              "    </tr>\n",
              "    <tr>\n",
              "      <th>2</th>\n",
              "      <td>0</td>\n",
              "      <td>25.0</td>\n",
              "      <td>17.443819</td>\n",
              "      <td>1</td>\n",
              "      <td>143</td>\n",
              "      <td>92</td>\n",
              "      <td>2</td>\n",
              "      <td>0</td>\n",
              "      <td>2</td>\n",
              "      <td>0</td>\n",
              "      <td>...</td>\n",
              "      <td>3</td>\n",
              "      <td>180</td>\n",
              "      <td>116</td>\n",
              "      <td>47</td>\n",
              "      <td>125</td>\n",
              "      <td>13.33</td>\n",
              "      <td>33.643060</td>\n",
              "      <td>0</td>\n",
              "      <td>2</td>\n",
              "      <td>0</td>\n",
              "    </tr>\n",
              "    <tr>\n",
              "      <th>3</th>\n",
              "      <td>1</td>\n",
              "      <td>96.0</td>\n",
              "      <td>8.627849</td>\n",
              "      <td>0</td>\n",
              "      <td>123</td>\n",
              "      <td>68</td>\n",
              "      <td>2</td>\n",
              "      <td>0</td>\n",
              "      <td>1</td>\n",
              "      <td>0</td>\n",
              "      <td>...</td>\n",
              "      <td>3</td>\n",
              "      <td>234</td>\n",
              "      <td>93</td>\n",
              "      <td>89</td>\n",
              "      <td>109</td>\n",
              "      <td>6.12</td>\n",
              "      <td>29.337871</td>\n",
              "      <td>0</td>\n",
              "      <td>1</td>\n",
              "      <td>0</td>\n",
              "    </tr>\n",
              "    <tr>\n",
              "      <th>4</th>\n",
              "      <td>0</td>\n",
              "      <td>42.0</td>\n",
              "      <td>23.751437</td>\n",
              "      <td>1</td>\n",
              "      <td>126</td>\n",
              "      <td>51</td>\n",
              "      <td>2</td>\n",
              "      <td>0</td>\n",
              "      <td>2</td>\n",
              "      <td>0</td>\n",
              "      <td>...</td>\n",
              "      <td>3</td>\n",
              "      <td>126</td>\n",
              "      <td>108</td>\n",
              "      <td>39</td>\n",
              "      <td>84</td>\n",
              "      <td>28.78</td>\n",
              "      <td>36.660286</td>\n",
              "      <td>0</td>\n",
              "      <td>1</td>\n",
              "      <td>0</td>\n",
              "    </tr>\n",
              "    <tr>\n",
              "      <th>...</th>\n",
              "      <td>...</td>\n",
              "      <td>...</td>\n",
              "      <td>...</td>\n",
              "      <td>...</td>\n",
              "      <td>...</td>\n",
              "      <td>...</td>\n",
              "      <td>...</td>\n",
              "      <td>...</td>\n",
              "      <td>...</td>\n",
              "      <td>...</td>\n",
              "      <td>...</td>\n",
              "      <td>...</td>\n",
              "      <td>...</td>\n",
              "      <td>...</td>\n",
              "      <td>...</td>\n",
              "      <td>...</td>\n",
              "      <td>...</td>\n",
              "      <td>...</td>\n",
              "      <td>...</td>\n",
              "      <td>...</td>\n",
              "      <td>...</td>\n",
              "    </tr>\n",
              "    <tr>\n",
              "      <th>8741</th>\n",
              "      <td>1</td>\n",
              "      <td>102.0</td>\n",
              "      <td>10.896486</td>\n",
              "      <td>0</td>\n",
              "      <td>138</td>\n",
              "      <td>59</td>\n",
              "      <td>2</td>\n",
              "      <td>0</td>\n",
              "      <td>2</td>\n",
              "      <td>1</td>\n",
              "      <td>...</td>\n",
              "      <td>3</td>\n",
              "      <td>199</td>\n",
              "      <td>90</td>\n",
              "      <td>85</td>\n",
              "      <td>74</td>\n",
              "      <td>12.73</td>\n",
              "      <td>27.186534</td>\n",
              "      <td>1</td>\n",
              "      <td>2</td>\n",
              "      <td>0</td>\n",
              "    </tr>\n",
              "    <tr>\n",
              "      <th>8742</th>\n",
              "      <td>1</td>\n",
              "      <td>98.0</td>\n",
              "      <td>8.646088</td>\n",
              "      <td>0</td>\n",
              "      <td>119</td>\n",
              "      <td>73</td>\n",
              "      <td>3</td>\n",
              "      <td>0</td>\n",
              "      <td>2</td>\n",
              "      <td>0</td>\n",
              "      <td>...</td>\n",
              "      <td>3</td>\n",
              "      <td>145</td>\n",
              "      <td>83</td>\n",
              "      <td>52</td>\n",
              "      <td>95</td>\n",
              "      <td>440.38</td>\n",
              "      <td>42.191997</td>\n",
              "      <td>1</td>\n",
              "      <td>1</td>\n",
              "      <td>0</td>\n",
              "    </tr>\n",
              "    <tr>\n",
              "      <th>8743</th>\n",
              "      <td>1</td>\n",
              "      <td>99.0</td>\n",
              "      <td>24.191491</td>\n",
              "      <td>1</td>\n",
              "      <td>137</td>\n",
              "      <td>75</td>\n",
              "      <td>0</td>\n",
              "      <td>1</td>\n",
              "      <td>2</td>\n",
              "      <td>0</td>\n",
              "      <td>...</td>\n",
              "      <td>3</td>\n",
              "      <td>167</td>\n",
              "      <td>80</td>\n",
              "      <td>46</td>\n",
              "      <td>75</td>\n",
              "      <td>26.92</td>\n",
              "      <td>19.462021</td>\n",
              "      <td>1</td>\n",
              "      <td>2</td>\n",
              "      <td>0</td>\n",
              "    </tr>\n",
              "    <tr>\n",
              "      <th>8744</th>\n",
              "      <td>0</td>\n",
              "      <td>15.0</td>\n",
              "      <td>20.354619</td>\n",
              "      <td>1</td>\n",
              "      <td>154</td>\n",
              "      <td>93</td>\n",
              "      <td>0</td>\n",
              "      <td>1</td>\n",
              "      <td>2</td>\n",
              "      <td>1</td>\n",
              "      <td>...</td>\n",
              "      <td>3</td>\n",
              "      <td>245</td>\n",
              "      <td>103</td>\n",
              "      <td>37</td>\n",
              "      <td>369</td>\n",
              "      <td>3.20</td>\n",
              "      <td>35.579436</td>\n",
              "      <td>0</td>\n",
              "      <td>3</td>\n",
              "      <td>0</td>\n",
              "    </tr>\n",
              "    <tr>\n",
              "      <th>8745</th>\n",
              "      <td>0</td>\n",
              "      <td>74.0</td>\n",
              "      <td>7.459888</td>\n",
              "      <td>0</td>\n",
              "      <td>146</td>\n",
              "      <td>81</td>\n",
              "      <td>1</td>\n",
              "      <td>0</td>\n",
              "      <td>1</td>\n",
              "      <td>1</td>\n",
              "      <td>...</td>\n",
              "      <td>3</td>\n",
              "      <td>123</td>\n",
              "      <td>87</td>\n",
              "      <td>52</td>\n",
              "      <td>71</td>\n",
              "      <td>9.17</td>\n",
              "      <td>30.783013</td>\n",
              "      <td>1</td>\n",
              "      <td>3</td>\n",
              "      <td>0</td>\n",
              "    </tr>\n",
              "  </tbody>\n",
              "</table>\n",
              "<p>8746 rows × 30 columns</p>\n",
              "</div>\n",
              "      <button class=\"colab-df-convert\" onclick=\"convertToInteractive('df-aab2df4d-34ea-4503-801b-25094d3f9037')\"\n",
              "              title=\"Convert this dataframe to an interactive table.\"\n",
              "              style=\"display:none;\">\n",
              "        \n",
              "  <svg xmlns=\"http://www.w3.org/2000/svg\" height=\"24px\"viewBox=\"0 0 24 24\"\n",
              "       width=\"24px\">\n",
              "    <path d=\"M0 0h24v24H0V0z\" fill=\"none\"/>\n",
              "    <path d=\"M18.56 5.44l.94 2.06.94-2.06 2.06-.94-2.06-.94-.94-2.06-.94 2.06-2.06.94zm-11 1L8.5 8.5l.94-2.06 2.06-.94-2.06-.94L8.5 2.5l-.94 2.06-2.06.94zm10 10l.94 2.06.94-2.06 2.06-.94-2.06-.94-.94-2.06-.94 2.06-2.06.94z\"/><path d=\"M17.41 7.96l-1.37-1.37c-.4-.4-.92-.59-1.43-.59-.52 0-1.04.2-1.43.59L10.3 9.45l-7.72 7.72c-.78.78-.78 2.05 0 2.83L4 21.41c.39.39.9.59 1.41.59.51 0 1.02-.2 1.41-.59l7.78-7.78 2.81-2.81c.8-.78.8-2.07 0-2.86zM5.41 20L4 18.59l7.72-7.72 1.47 1.35L5.41 20z\"/>\n",
              "  </svg>\n",
              "      </button>\n",
              "      \n",
              "  <style>\n",
              "    .colab-df-container {\n",
              "      display:flex;\n",
              "      flex-wrap:wrap;\n",
              "      gap: 12px;\n",
              "    }\n",
              "\n",
              "    .colab-df-convert {\n",
              "      background-color: #E8F0FE;\n",
              "      border: none;\n",
              "      border-radius: 50%;\n",
              "      cursor: pointer;\n",
              "      display: none;\n",
              "      fill: #1967D2;\n",
              "      height: 32px;\n",
              "      padding: 0 0 0 0;\n",
              "      width: 32px;\n",
              "    }\n",
              "\n",
              "    .colab-df-convert:hover {\n",
              "      background-color: #E2EBFA;\n",
              "      box-shadow: 0px 1px 2px rgba(60, 64, 67, 0.3), 0px 1px 3px 1px rgba(60, 64, 67, 0.15);\n",
              "      fill: #174EA6;\n",
              "    }\n",
              "\n",
              "    [theme=dark] .colab-df-convert {\n",
              "      background-color: #3B4455;\n",
              "      fill: #D2E3FC;\n",
              "    }\n",
              "\n",
              "    [theme=dark] .colab-df-convert:hover {\n",
              "      background-color: #434B5C;\n",
              "      box-shadow: 0px 1px 3px 1px rgba(0, 0, 0, 0.15);\n",
              "      filter: drop-shadow(0px 1px 2px rgba(0, 0, 0, 0.3));\n",
              "      fill: #FFFFFF;\n",
              "    }\n",
              "  </style>\n",
              "\n",
              "      <script>\n",
              "        const buttonEl =\n",
              "          document.querySelector('#df-aab2df4d-34ea-4503-801b-25094d3f9037 button.colab-df-convert');\n",
              "        buttonEl.style.display =\n",
              "          google.colab.kernel.accessAllowed ? 'block' : 'none';\n",
              "\n",
              "        async function convertToInteractive(key) {\n",
              "          const element = document.querySelector('#df-aab2df4d-34ea-4503-801b-25094d3f9037');\n",
              "          const dataTable =\n",
              "            await google.colab.kernel.invokeFunction('convertToInteractive',\n",
              "                                                     [key], {});\n",
              "          if (!dataTable) return;\n",
              "\n",
              "          const docLinkHtml = 'Like what you see? Visit the ' +\n",
              "            '<a target=\"_blank\" href=https://colab.research.google.com/notebooks/data_table.ipynb>data table notebook</a>'\n",
              "            + ' to learn more about interactive tables.';\n",
              "          element.innerHTML = '';\n",
              "          dataTable['output_type'] = 'display_data';\n",
              "          await google.colab.output.renderOutput(dataTable, element);\n",
              "          const docLink = document.createElement('div');\n",
              "          docLink.innerHTML = docLinkHtml;\n",
              "          element.appendChild(docLink);\n",
              "        }\n",
              "      </script>\n",
              "    </div>\n",
              "  </div>\n",
              "  "
            ]
          },
          "metadata": {},
          "execution_count": 5
        }
      ]
    },
    {
      "cell_type": "markdown",
      "source": [
        "Replacing null values with the average of each column"
      ],
      "metadata": {
        "id": "KhPPGofEg4V4"
      }
    },
    {
      "cell_type": "code",
      "source": [
        "df = df.apply(lambda x: x.fillna(x.mean())) "
      ],
      "metadata": {
        "id": "BziUq4RCfrAi"
      },
      "execution_count": 6,
      "outputs": []
    },
    {
      "cell_type": "markdown",
      "source": [
        "Separate the column we want to predict"
      ],
      "metadata": {
        "id": "cOCLfXJhhWWH"
      }
    },
    {
      "cell_type": "code",
      "source": [
        "Y = df['EVENT_PRIMARY']\n",
        "df=df.drop(columns=['EVENT_PRIMARY'])"
      ],
      "metadata": {
        "id": "DuBHnt0sg22U"
      },
      "execution_count": 7,
      "outputs": []
    },
    {
      "cell_type": "markdown",
      "source": [
        "Split to train and test"
      ],
      "metadata": {
        "id": "8JtIgbW9hy46"
      }
    },
    {
      "cell_type": "code",
      "source": [
        "X_train, X_test, y_train, y_test = train_test_split(df, Y, test_size=1/3, random_state=1, stratify=Y)"
      ],
      "metadata": {
        "id": "64dEvPrihZl1"
      },
      "execution_count": 8,
      "outputs": []
    },
    {
      "cell_type": "markdown",
      "source": [
        "Data normalization"
      ],
      "metadata": {
        "id": "64z6Z32Uh-7-"
      }
    },
    {
      "cell_type": "code",
      "source": [
        "#Normalize the data according to the training data\n",
        "scaler = StandardScaler()\n",
        "X_train = scaler.fit_transform(X_train)\n",
        "X_test =scaler.transform(X_test)"
      ],
      "metadata": {
        "id": "pDaDT3x6x6KI"
      },
      "execution_count": 9,
      "outputs": []
    },
    {
      "cell_type": "markdown",
      "source": [
        "**2. Models**"
      ],
      "metadata": {
        "id": "MlIIHiJ9iFOF"
      }
    },
    {
      "cell_type": "markdown",
      "source": [
        "**Linear classifier model: Logistic Regression**\n",
        "\n",
        "This model uses a regression method to solve binary classification problems using a logistic function.\n",
        "\n",
        "We chose this model because it solves binary classification and our target column \"EVENT_PRIMARY\" is binary. In addition, in this dataset, there are many more cases of 'false' (0) than 'true'(1) in our target column. therefore, we need to balance it. In Logistic Regression there is a 'class_weight' parameter that increases the class_weight of class 0 relative to class 1."
      ],
      "metadata": {
        "id": "0q6LeWKKiSXD"
      }
    },
    {
      "cell_type": "code",
      "source": [
        "clf = LogisticRegression()\n",
        "\n",
        "parameters = {'class_weight': ['balanced'],\n",
        "              'max_iter':[100,500, 1000] ,\n",
        "              'penalty': ['l1', 'l2', 'elasticnet', 'none'],\n",
        "              'solver': ['newton-cg', 'lbfgs', 'liblinear', 'sag', 'saga'],\n",
        "              'C':[0.001,0.09,1,5,10]\n",
        "              }\n",
        "warnings.filterwarnings('ignore')\n",
        "# Type of scoring used to compare parameter combinations: Recall\n",
        "scorer = make_scorer(recall_score)\n",
        "\n",
        "# Run the grid search\n",
        "grid_obj = GridSearchCV(clf, parameters,scoring=scorer, return_train_score=True)\n",
        "grid_obj = grid_obj.fit(X_train, y_train)\n",
        "\n"
      ],
      "metadata": {
        "id": "7En6_yl4Prrj"
      },
      "execution_count": 10,
      "outputs": []
    },
    {
      "cell_type": "code",
      "source": [
        "grid_obj.best_params_"
      ],
      "metadata": {
        "id": "bdl_8CVU2WsL",
        "colab": {
          "base_uri": "https://localhost:8080/"
        },
        "outputId": "6a975452-5b1b-45ef-bf23-16915a8ce045"
      },
      "execution_count": 11,
      "outputs": [
        {
          "output_type": "execute_result",
          "data": {
            "text/plain": [
              "{'C': 0.001,\n",
              " 'class_weight': 'balanced',\n",
              " 'max_iter': 500,\n",
              " 'penalty': 'l1',\n",
              " 'solver': 'saga'}"
            ]
          },
          "metadata": {},
          "execution_count": 11
        }
      ]
    },
    {
      "cell_type": "code",
      "source": [
        "# Set the clf to the best combination of parameters\n",
        "clf = grid_obj.best_estimator_\n",
        "\n",
        "# Fit the best algorithm to the data. \n",
        "clf.fit(X_train, y_train)"
      ],
      "metadata": {
        "id": "hZ0xtAMBPcWv",
        "colab": {
          "base_uri": "https://localhost:8080/"
        },
        "outputId": "a21499d0-ece0-41ff-8e12-94f9228d2a9e"
      },
      "execution_count": 12,
      "outputs": [
        {
          "output_type": "execute_result",
          "data": {
            "text/plain": [
              "LogisticRegression(C=0.001, class_weight='balanced', max_iter=500, penalty='l1',\n",
              "                   solver='saga')"
            ]
          },
          "metadata": {},
          "execution_count": 12
        }
      ]
    },
    {
      "cell_type": "code",
      "source": [
        "def scores(test, predict):\n",
        "  d = {}\n",
        "  d['Accuracy'] = accuracy_score(test, predict)\n",
        "  d['Recall'] = recall_score(test, predict)\n",
        "  d['Precision'] = precision_score(test, predict)\n",
        "  d['ROC AUC'] = roc_auc_score(test, predict)\n",
        "\n",
        "  return d"
      ],
      "metadata": {
        "id": "lYae7TzAwnWn"
      },
      "execution_count": 13,
      "outputs": []
    },
    {
      "cell_type": "code",
      "source": [
        "LR_scores = scores(y_test, clf.predict(X_test))\n",
        "LR_scores_train = scores(y_train, clf.predict(X_train))"
      ],
      "metadata": {
        "id": "Y3RSEvn3xyZU"
      },
      "execution_count": 14,
      "outputs": []
    },
    {
      "cell_type": "markdown",
      "source": [
        "Does the model overfit?"
      ],
      "metadata": {
        "id": "srlqpsugkSdH"
      }
    },
    {
      "cell_type": "code",
      "source": [
        "print('Testing Error: '+str(1-accuracy_score(y_test, clf.predict(X_test))))\n",
        "print('Train Error: '+str(1-accuracy_score(y_train, clf.predict(X_train))))\n",
        "\n",
        "print('Test Scores'+str(LR_scores))\n",
        "print('Train Scores'+str(LR_scores_train))"
      ],
      "metadata": {
        "colab": {
          "base_uri": "https://localhost:8080/"
        },
        "id": "91AfZG6Ij-ED",
        "outputId": "2bd2d966-d1ff-47b5-cd9e-29b0433e3390"
      },
      "execution_count": 15,
      "outputs": [
        {
          "output_type": "stream",
          "name": "stdout",
          "text": [
            "Testing Error: 0.9382716049382716\n",
            "Train Error: 0.9384219554030875\n",
            "Test Scores{'Accuracy': 0.06172839506172839, 'Recall': 1.0, 'Precision': 0.06172839506172839, 'ROC AUC': 0.5}\n",
            "Train Scores{'Accuracy': 0.061578044596912525, 'Recall': 1.0, 'Precision': 0.061578044596912525, 'ROC AUC': 0.5}\n"
          ]
        }
      ]
    },
    {
      "cell_type": "markdown",
      "source": [
        "Overfitting may have occurred if the testing error is greater than the training error.\n",
        "\n",
        "In our model, the testing error is 0.361 and the training error is 0.365 I.e. the errors are close therefore the model doesn't overfit.\n",
        "In addition, for each evaluation method, the train score is close to the test score. therefore the model doesn't overfit."
      ],
      "metadata": {
        "id": "jr6SaFHlkcXZ"
      }
    },
    {
      "cell_type": "markdown",
      "source": [
        "**Ensemble model: Random Forest Classifier**\n",
        "\n",
        "This model is an ensemble learning method for classification, regression and other tasks that operates by constructing a multitude of decision trees at training time.\n",
        "\n",
        "For classification tasks, the output of the random forest is the class selected by most trees.\n",
        "\n",
        "We chose this model because in this dataset there are many more cases of 'false' (0) than 'true'(1) in the target column therefore we need to balance it. In the Random Forest model, there is a 'class_weight' parameter that increases the class_weight of class 0 relative to class 1.\n"
      ],
      "metadata": {
        "id": "9NT0SThvjbtw"
      }
    },
    {
      "cell_type": "code",
      "source": [
        "clf = RandomForestClassifier()\n",
        "\n",
        "# Choose some parameter combinations to try\n",
        "parameters = {'n_estimators': [4, 7, 9],\n",
        "              'max_features': ['log2', 'sqrt','auto'], \n",
        "              'criterion': ['entropy', 'gini'],\n",
        "              'max_depth': [2, 3, 5, 10], \n",
        "              'min_samples_split': [2, 3, 5],\n",
        "              'min_samples_leaf': [1,5,8],\n",
        "               'class_weight': ['balanced']}\n",
        "\n",
        "# Type of scoring used to compare parameter combinations: Recall\n",
        "scorer = make_scorer(recall_score)\n",
        "\n",
        "# Run the grid search\n",
        "grid_obj = GridSearchCV(clf, parameters,scoring=scorer, return_train_score=True)\n",
        "grid_obj = grid_obj.fit(X_train, y_train)\n",
        "print(grid_obj.best_params_)"
      ],
      "metadata": {
        "id": "y-nM6QpDdJwd",
        "colab": {
          "base_uri": "https://localhost:8080/"
        },
        "outputId": "ec344ea5-cff2-4e5c-a462-4f39ac96f3f3"
      },
      "execution_count": 16,
      "outputs": [
        {
          "output_type": "stream",
          "name": "stdout",
          "text": [
            "{'class_weight': 'balanced', 'criterion': 'entropy', 'max_depth': 2, 'max_features': 'auto', 'min_samples_leaf': 8, 'min_samples_split': 3, 'n_estimators': 4}\n"
          ]
        }
      ]
    },
    {
      "cell_type": "code",
      "source": [
        "# Set the clf to the best combination of parameters\n",
        "clf = grid_obj.best_estimator_\n",
        "\n",
        "# Fit the best algorithm to the data. \n",
        "clf.fit(X_train, y_train)"
      ],
      "metadata": {
        "id": "RyZsRBVddj6H",
        "colab": {
          "base_uri": "https://localhost:8080/"
        },
        "outputId": "10e8ad24-c5db-4e65-8ed5-bab26b51bc52"
      },
      "execution_count": 17,
      "outputs": [
        {
          "output_type": "execute_result",
          "data": {
            "text/plain": [
              "RandomForestClassifier(class_weight='balanced', criterion='entropy',\n",
              "                       max_depth=2, min_samples_leaf=8, min_samples_split=3,\n",
              "                       n_estimators=4)"
            ]
          },
          "metadata": {},
          "execution_count": 17
        }
      ]
    },
    {
      "cell_type": "code",
      "source": [
        "RF_scores = scores(y_test, clf.predict(X_test))\n",
        "RF_scores_train = scores(y_train, clf.predict(X_train))"
      ],
      "metadata": {
        "id": "ixPE9v1gz-nJ"
      },
      "execution_count": 18,
      "outputs": []
    },
    {
      "cell_type": "markdown",
      "source": [
        "The model overfit?"
      ],
      "metadata": {
        "id": "vR-ckAYolEJX"
      }
    },
    {
      "cell_type": "code",
      "source": [
        "print('Test Error: '+str(1-accuracy_score(y_test, clf.predict(X_test))))\n",
        "print('Train Error: '+str(1-accuracy_score(y_train, clf.predict(X_train))))\n",
        "print('Test Scores'+str(RF_scores))\n",
        "print('Train Scores'+str(RF_scores_train))"
      ],
      "metadata": {
        "id": "jnCaFnEcBKtW",
        "colab": {
          "base_uri": "https://localhost:8080/"
        },
        "outputId": "ea520d41-b45b-4d5d-afd4-16cb05acab94"
      },
      "execution_count": 19,
      "outputs": [
        {
          "output_type": "stream",
          "name": "stdout",
          "text": [
            "Test Error: 0.34259259259259256\n",
            "Train Error: 0.3523156089193825\n",
            "Test Scores{'Accuracy': 0.6574074074074074, 'Recall': 0.5555555555555556, 'Precision': 0.09813542688910697, 'ROC AUC': 0.6098318713450293}\n",
            "Train Scores{'Accuracy': 0.6476843910806175, 'Recall': 0.6044568245125348, 'Precision': 0.10192578675434476, 'ROC AUC': 0.6274888765223979}\n"
          ]
        }
      ]
    },
    {
      "cell_type": "markdown",
      "source": [
        "Overfitting may have occurred if the testing error is greater than the training error.\n",
        "\n",
        "In our model, the testing error is 0.293 and the training error is 0.306 I.e. the errors are close therefore the model doesn't overfit.\n",
        "\n",
        "In addition, for each evaluation method, the training score is close to the test score therefore the model doesn't overfit."
      ],
      "metadata": {
        "id": "drySAAHjlKF_"
      }
    },
    {
      "cell_type": "markdown",
      "source": [
        "**Deep Learning model: Sequential**\n",
        "\n",
        "This model is a fully connected neuron network that consists of at least three layers: an input layer, a hidden layer and an output layer. Except for the input nodes, each node is a neuron that uses a nonlinear activation function. MLP utilizes a supervised learning technique called backpropagation for training.\n",
        "\n",
        "We chose this model because it solves binary classification and our target column \"EVENT_PRIMARY\" is binary. In addition in this model, we got better results than in other models.\n"
      ],
      "metadata": {
        "id": "9YIPx0ALjtSr"
      }
    },
    {
      "cell_type": "code",
      "source": [
        "y_train1 = to_categorical(y_train)\n",
        "y_test1 = to_categorical(y_test)"
      ],
      "metadata": {
        "id": "kbgLbOZRaCaz"
      },
      "execution_count": 20,
      "outputs": []
    },
    {
      "cell_type": "code",
      "source": [
        "tf.keras.backend.clear_session()\n",
        "# define the keras model\n",
        "model = Sequential()\n",
        "model.add(Dense(12, input_dim=29, activation='relu'))\n",
        "model.add(Dense(8, activation='relu'))\n",
        "model.add(Dropout(0.2))\n",
        "model.add(Dense(8, activation='relu'))\n",
        "model.add(Dense(2, activation='softmax'))\n",
        "# compile the keras model\n",
        "model.compile(loss='binary_crossentropy', optimizer='adam', metrics=['accuracy', Recall(), Precision(), AUC()])\n",
        "\n",
        "# fit the keras model on the dataset\n",
        "history = model.fit(x=X_train, y=y_train1, batch_size=10, epochs=30, validation_split=1/3,  workers=-1)"
      ],
      "metadata": {
        "id": "4FRl9lj3tkUs",
        "colab": {
          "base_uri": "https://localhost:8080/"
        },
        "outputId": "585b0a33-d066-481e-8011-358513f9b3b7"
      },
      "execution_count": 21,
      "outputs": [
        {
          "output_type": "stream",
          "name": "stdout",
          "text": [
            "Epoch 1/30\n",
            "389/389 [==============================] - 3s 4ms/step - loss: 0.3380 - accuracy: 0.9297 - recall: 0.9295 - precision: 0.9297 - auc: 0.9407 - val_loss: 0.2430 - val_accuracy: 0.9372 - val_recall: 0.9372 - val_precision: 0.9372 - val_auc: 0.9476\n",
            "Epoch 2/30\n",
            "389/389 [==============================] - 1s 3ms/step - loss: 0.2487 - accuracy: 0.9390 - recall: 0.9390 - precision: 0.9390 - auc: 0.9457 - val_loss: 0.2319 - val_accuracy: 0.9372 - val_recall: 0.9372 - val_precision: 0.9372 - val_auc: 0.9534\n",
            "Epoch 3/30\n",
            "389/389 [==============================] - 1s 3ms/step - loss: 0.2326 - accuracy: 0.9390 - recall: 0.9390 - precision: 0.9390 - auc: 0.9514 - val_loss: 0.2280 - val_accuracy: 0.9372 - val_recall: 0.9372 - val_precision: 0.9372 - val_auc: 0.9539\n",
            "Epoch 4/30\n",
            "389/389 [==============================] - 1s 3ms/step - loss: 0.2299 - accuracy: 0.9390 - recall: 0.9390 - precision: 0.9390 - auc: 0.9517 - val_loss: 0.2261 - val_accuracy: 0.9372 - val_recall: 0.9372 - val_precision: 0.9372 - val_auc: 0.9546\n",
            "Epoch 5/30\n",
            "389/389 [==============================] - 1s 3ms/step - loss: 0.2212 - accuracy: 0.9390 - recall: 0.9390 - precision: 0.9390 - auc: 0.9551 - val_loss: 0.2251 - val_accuracy: 0.9372 - val_recall: 0.9372 - val_precision: 0.9372 - val_auc: 0.9554\n",
            "Epoch 6/30\n",
            "389/389 [==============================] - 1s 3ms/step - loss: 0.2214 - accuracy: 0.9390 - recall: 0.9390 - precision: 0.9390 - auc: 0.9539 - val_loss: 0.2241 - val_accuracy: 0.9372 - val_recall: 0.9372 - val_precision: 0.9372 - val_auc: 0.9555\n",
            "Epoch 7/30\n",
            "389/389 [==============================] - 1s 3ms/step - loss: 0.2167 - accuracy: 0.9390 - recall: 0.9390 - precision: 0.9390 - auc: 0.9572 - val_loss: 0.2234 - val_accuracy: 0.9372 - val_recall: 0.9372 - val_precision: 0.9372 - val_auc: 0.9555\n",
            "Epoch 8/30\n",
            "389/389 [==============================] - 1s 3ms/step - loss: 0.2167 - accuracy: 0.9390 - recall: 0.9390 - precision: 0.9390 - auc: 0.9593 - val_loss: 0.2224 - val_accuracy: 0.9372 - val_recall: 0.9372 - val_precision: 0.9372 - val_auc: 0.9552\n",
            "Epoch 9/30\n",
            "389/389 [==============================] - 1s 2ms/step - loss: 0.2150 - accuracy: 0.9390 - recall: 0.9390 - precision: 0.9390 - auc: 0.9590 - val_loss: 0.2222 - val_accuracy: 0.9372 - val_recall: 0.9372 - val_precision: 0.9372 - val_auc: 0.9554\n",
            "Epoch 10/30\n",
            "389/389 [==============================] - 1s 3ms/step - loss: 0.2114 - accuracy: 0.9390 - recall: 0.9390 - precision: 0.9390 - auc: 0.9607 - val_loss: 0.2224 - val_accuracy: 0.9372 - val_recall: 0.9372 - val_precision: 0.9372 - val_auc: 0.9548\n",
            "Epoch 11/30\n",
            "389/389 [==============================] - 1s 3ms/step - loss: 0.2107 - accuracy: 0.9390 - recall: 0.9390 - precision: 0.9390 - auc: 0.9615 - val_loss: 0.2221 - val_accuracy: 0.9372 - val_recall: 0.9372 - val_precision: 0.9372 - val_auc: 0.9548\n",
            "Epoch 12/30\n",
            "389/389 [==============================] - 1s 3ms/step - loss: 0.2090 - accuracy: 0.9390 - recall: 0.9390 - precision: 0.9390 - auc: 0.9631 - val_loss: 0.2224 - val_accuracy: 0.9372 - val_recall: 0.9372 - val_precision: 0.9372 - val_auc: 0.9541\n",
            "Epoch 13/30\n",
            "389/389 [==============================] - 1s 2ms/step - loss: 0.2096 - accuracy: 0.9390 - recall: 0.9390 - precision: 0.9390 - auc: 0.9615 - val_loss: 0.2225 - val_accuracy: 0.9372 - val_recall: 0.9372 - val_precision: 0.9372 - val_auc: 0.9564\n",
            "Epoch 14/30\n",
            "389/389 [==============================] - 1s 3ms/step - loss: 0.2066 - accuracy: 0.9390 - recall: 0.9390 - precision: 0.9390 - auc: 0.9647 - val_loss: 0.2216 - val_accuracy: 0.9372 - val_recall: 0.9372 - val_precision: 0.9372 - val_auc: 0.9543\n",
            "Epoch 15/30\n",
            "389/389 [==============================] - 1s 3ms/step - loss: 0.2085 - accuracy: 0.9390 - recall: 0.9390 - precision: 0.9390 - auc: 0.9637 - val_loss: 0.2226 - val_accuracy: 0.9372 - val_recall: 0.9372 - val_precision: 0.9372 - val_auc: 0.9558\n",
            "Epoch 16/30\n",
            "389/389 [==============================] - 1s 3ms/step - loss: 0.2059 - accuracy: 0.9390 - recall: 0.9390 - precision: 0.9390 - auc: 0.9645 - val_loss: 0.2227 - val_accuracy: 0.9372 - val_recall: 0.9372 - val_precision: 0.9372 - val_auc: 0.9564\n",
            "Epoch 17/30\n",
            "389/389 [==============================] - 1s 3ms/step - loss: 0.2048 - accuracy: 0.9390 - recall: 0.9390 - precision: 0.9390 - auc: 0.9659 - val_loss: 0.2222 - val_accuracy: 0.9372 - val_recall: 0.9372 - val_precision: 0.9372 - val_auc: 0.9530\n",
            "Epoch 18/30\n",
            "389/389 [==============================] - 1s 3ms/step - loss: 0.2030 - accuracy: 0.9390 - recall: 0.9390 - precision: 0.9390 - auc: 0.9659 - val_loss: 0.2232 - val_accuracy: 0.9372 - val_recall: 0.9372 - val_precision: 0.9372 - val_auc: 0.9527\n",
            "Epoch 19/30\n",
            "389/389 [==============================] - 1s 3ms/step - loss: 0.2006 - accuracy: 0.9390 - recall: 0.9390 - precision: 0.9390 - auc: 0.9663 - val_loss: 0.2234 - val_accuracy: 0.9372 - val_recall: 0.9372 - val_precision: 0.9372 - val_auc: 0.9520\n",
            "Epoch 20/30\n",
            "389/389 [==============================] - 1s 3ms/step - loss: 0.1998 - accuracy: 0.9390 - recall: 0.9390 - precision: 0.9390 - auc: 0.9676 - val_loss: 0.2241 - val_accuracy: 0.9372 - val_recall: 0.9372 - val_precision: 0.9372 - val_auc: 0.9516\n",
            "Epoch 21/30\n",
            "389/389 [==============================] - 1s 2ms/step - loss: 0.2009 - accuracy: 0.9390 - recall: 0.9390 - precision: 0.9390 - auc: 0.9671 - val_loss: 0.2225 - val_accuracy: 0.9372 - val_recall: 0.9372 - val_precision: 0.9372 - val_auc: 0.9520\n",
            "Epoch 22/30\n",
            "389/389 [==============================] - 1s 2ms/step - loss: 0.1968 - accuracy: 0.9390 - recall: 0.9390 - precision: 0.9390 - auc: 0.9680 - val_loss: 0.2240 - val_accuracy: 0.9372 - val_recall: 0.9372 - val_precision: 0.9372 - val_auc: 0.9530\n",
            "Epoch 23/30\n",
            "389/389 [==============================] - 1s 3ms/step - loss: 0.1948 - accuracy: 0.9390 - recall: 0.9390 - precision: 0.9390 - auc: 0.9693 - val_loss: 0.2255 - val_accuracy: 0.9372 - val_recall: 0.9372 - val_precision: 0.9372 - val_auc: 0.9533\n",
            "Epoch 24/30\n",
            "389/389 [==============================] - 1s 3ms/step - loss: 0.1966 - accuracy: 0.9390 - recall: 0.9390 - precision: 0.9390 - auc: 0.9686 - val_loss: 0.2241 - val_accuracy: 0.9372 - val_recall: 0.9372 - val_precision: 0.9372 - val_auc: 0.9534\n",
            "Epoch 25/30\n",
            "389/389 [==============================] - 1s 3ms/step - loss: 0.1929 - accuracy: 0.9385 - recall: 0.9385 - precision: 0.9385 - auc: 0.9701 - val_loss: 0.2260 - val_accuracy: 0.9372 - val_recall: 0.9372 - val_precision: 0.9372 - val_auc: 0.9524\n",
            "Epoch 26/30\n",
            "389/389 [==============================] - 1s 2ms/step - loss: 0.1926 - accuracy: 0.9385 - recall: 0.9385 - precision: 0.9385 - auc: 0.9703 - val_loss: 0.2280 - val_accuracy: 0.9367 - val_recall: 0.9367 - val_precision: 0.9367 - val_auc: 0.9527\n",
            "Epoch 27/30\n",
            "389/389 [==============================] - 1s 3ms/step - loss: 0.1913 - accuracy: 0.9395 - recall: 0.9395 - precision: 0.9395 - auc: 0.9700 - val_loss: 0.2269 - val_accuracy: 0.9367 - val_recall: 0.9367 - val_precision: 0.9367 - val_auc: 0.9522\n",
            "Epoch 28/30\n",
            "389/389 [==============================] - 1s 3ms/step - loss: 0.1900 - accuracy: 0.9388 - recall: 0.9388 - precision: 0.9388 - auc: 0.9708 - val_loss: 0.2291 - val_accuracy: 0.9362 - val_recall: 0.9362 - val_precision: 0.9362 - val_auc: 0.9523\n",
            "Epoch 29/30\n",
            "389/389 [==============================] - 1s 3ms/step - loss: 0.1889 - accuracy: 0.9385 - recall: 0.9385 - precision: 0.9385 - auc: 0.9712 - val_loss: 0.2312 - val_accuracy: 0.9372 - val_recall: 0.9372 - val_precision: 0.9372 - val_auc: 0.9536\n",
            "Epoch 30/30\n",
            "389/389 [==============================] - 1s 3ms/step - loss: 0.1905 - accuracy: 0.9398 - recall: 0.9398 - precision: 0.9398 - auc: 0.9702 - val_loss: 0.2273 - val_accuracy: 0.9367 - val_recall: 0.9367 - val_precision: 0.9367 - val_auc: 0.9526\n"
          ]
        }
      ]
    },
    {
      "cell_type": "code",
      "source": [
        "test_scores = model.evaluate(X_test, y_test1, verbose=0)[1:]\n",
        "train_scores = model.evaluate(X_train, y_train1, verbose=0)[1:]"
      ],
      "metadata": {
        "id": "Yup4khmf0Rb6"
      },
      "execution_count": 22,
      "outputs": []
    },
    {
      "cell_type": "markdown",
      "source": [
        "The model overfit?"
      ],
      "metadata": {
        "id": "dtod38r4lZnH"
      }
    },
    {
      "cell_type": "code",
      "source": [
        "print('Testing Error: '+str(1-test_scores[0]))\n",
        "print('Train Error: '+str(1-train_scores[0]))\n",
        "\n",
        "print('Test Scores'+str(test_scores))\n",
        "print('Train Scores'+str(train_scores))"
      ],
      "metadata": {
        "id": "dfOgI0Yilaf4",
        "colab": {
          "base_uri": "https://localhost:8080/"
        },
        "outputId": "e54dac1a-e7d1-4eae-d46d-3ca0e19b2c37"
      },
      "execution_count": 23,
      "outputs": [
        {
          "output_type": "stream",
          "name": "stdout",
          "text": [
            "Testing Error: 0.06310015916824341\n",
            "Train Error: 0.06157803535461426\n",
            "Test Scores[0.9368998408317566, 0.9368998408317566, 0.9368998408317566, 0.9522477984428406]\n",
            "Train Scores[0.9384219646453857, 0.9384219646453857, 0.9384219646453857, 0.968471109867096]\n"
          ]
        }
      ]
    },
    {
      "cell_type": "markdown",
      "source": [
        "Overfitting may have occurred if the testing error is greater than the training error.\n",
        "\n",
        "In our model, the testing error is 0.062 and the training error is 0.061 I.e. the errors are close therefore the model doesn't overfit.\n",
        "\n",
        "In addition for each evaluation method the training score is close to the test score therefore the model doesn't overfit."
      ],
      "metadata": {
        "id": "5g1ON6jplegy"
      }
    },
    {
      "cell_type": "markdown",
      "source": [
        "**In the DL model, what's the effect of batch size? In general, and do you see this effect in the current task?**\n",
        "\n",
        "Batch size controls the accuracy of the estimated error of the gradient when training neural networks. On one hand, a small batch size can converge faster than a large batch, but a large batch can reach optimum minima that a small batch size cannot reach. However, too large of a batch size will lead to poor generalization. Also, a small batch size can have a significant regularization effect because of its high variance, but it will require a small learning rate to prevent it from overshooting the minima.\n",
        "\n",
        "We saw this effect in this task when we were fine-tuning the model parameters- When the batch size was very large(10,000) we got worse results. When the batch size was very small(1) the run time of all the epochs was very long but we got good results already in the first epochs (rapid convergence). When the batch size was around 500 we got good results with fast calculation time."
      ],
      "metadata": {
        "id": "MWg70TM6ltB5"
      }
    },
    {
      "cell_type": "markdown",
      "source": [
        "3. **comparison between the models:**"
      ],
      "metadata": {
        "id": "pLy9K9HNlzn-"
      }
    },
    {
      "cell_type": "code",
      "source": [
        "df = pd.DataFrame({'Logistic Regression': LR_scores.values(),\n",
        "                   'Random Forest': RF_scores.values(),\n",
        "                   'Sequential': test_scores},\n",
        "                  index=LR_scores.keys())\n",
        "df.plot.bar(rot=0)\n",
        "\n"
      ],
      "metadata": {
        "id": "jw-acIYE2q6o",
        "colab": {
          "base_uri": "https://localhost:8080/",
          "height": 282
        },
        "outputId": "fccf7c20-8ab3-46a6-b6e4-305be8ffc3c1"
      },
      "execution_count": 24,
      "outputs": [
        {
          "output_type": "execute_result",
          "data": {
            "text/plain": [
              "<matplotlib.axes._subplots.AxesSubplot at 0x7f30683c3a50>"
            ]
          },
          "metadata": {},
          "execution_count": 24
        },
        {
          "output_type": "display_data",
          "data": {
            "text/plain": [
              "<Figure size 432x288 with 1 Axes>"
            ],
            "image/png": "[encoded data removed]"
          },
          "metadata": {
            "needs_background": "light"
          }
        }
      ]
    },
    {
      "cell_type": "markdown",
      "source": [
        "We received in model \"Sequential\" the highest indices in each of the evaluation methods.\n",
        "\n",
        "In models \"LR\" and \"RF\":\n",
        " \n",
        "The \"Precision\" score is very low i.e small chance of being sick\\dead provided the prediction is positive(low quality).\n",
        "\n",
        "However, the \"Recall\" scores are larger i.e larger chance of predicting is positive provided being sick\\dead(large quantity).\n",
        "\n",
        "The \"ROC AUC\" scores are larger i.e large \"Sensitivity\" and large Specificity (small (1-Specificity) ).\n",
        "\"Sensitivity\" - The test is positive provided the patient has a disease\n",
        "\"Specificity\" - The test is negative provided the patient does not has a disease)\n",
        "\n",
        "Although the accuracy is high in all of the models, it is not a good enough measure for the above dataset because the data is unbalanced(more false than true in the target column). For example, if we determined that the prediction is always \"false\", we will usually be right, so the accuracy will be high, even though we missed important illness/death cases.\n",
        "\n",
        "In our opinion, the most important evaluation method is \"Recall\" for this dataset because we want to get positive predictions provided the patient has a disease. Therefore we chose parameters in the models that increase this score.\n"
      ],
      "metadata": {
        "id": "CEQ73hn5wbKP"
      }
    }
  ]
}